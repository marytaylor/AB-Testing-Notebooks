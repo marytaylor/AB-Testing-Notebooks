{
 "cells": [
  {
   "cell_type": "markdown",
   "metadata": {
    "ExecuteTime": {
     "end_time": "2018-07-06T15:57:00.997193Z",
     "start_time": "2018-07-06T15:57:00.994043Z"
    }
   },
   "source": [
    "## Analysis Methods"
   ]
  },
  {
   "cell_type": "markdown",
   "metadata": {
    "ExecuteTime": {
     "end_time": "2018-07-06T14:43:50.131401Z",
     "start_time": "2018-07-06T14:43:50.093675Z"
    }
   },
   "source": [
    "For this analysis we will be using the nonparametric method of the N-1 chi-square test. This test makes fewer assumptions about the underlying data than z-tests. [1][2]\n",
    "\n",
    "\\begin{align}\n",
    "{\\chi}^2 = \\frac{(ad-bc)^2(N-1)}{mnrs}\n",
    "\\end{align}\n",
    "\n",
    "Where\n",
    "<br>\n",
    "<table style=\"border: 1px solid black;\">\n",
    "  <tr>\n",
    "    <th> </th>\n",
    "    <th>Pass (Yes)</th> \n",
    "    <th>Fail (No)</th>\n",
    "    <th>Total</th>\n",
    "  </tr>\n",
    "  <tr>\n",
    "    <td>Design A</td>\n",
    "    <td><i>a</i></td>\n",
    "    <td><i>b</i></td>\n",
    "    <td><i>m</i></td>\n",
    "  </tr>\n",
    "  <tr>\n",
    "    <td>Design B</td>\n",
    "    <td><i>c</i></td>\n",
    "    <td><i>d</i></td>\n",
    "    <td><i>n</i></td>\n",
    "  </tr>\n",
    "  <tr>\n",
    "    <td>Total</td>\n",
    "    <td><i>r</i></td>\n",
    "    <td><i>s</i></td>\n",
    "    <td><i>N</i></td>\n",
    "  </tr>\n",
    "</table>\n",
    "\n",
    "An alternative way of analyzing this A/B test is to compare the differences in proportions with the N-1 two proportion tests (using the normal z distribution); the N-1 two proportion test is mathematically equivalent to the N-1 chi-square test.[1][3] \n",
    "<br><br>\n",
    "When working with more variations beyond the standard A/B test (A/B/C etc), it is best practice to use the Chi-Squared test [1], thus for consistency sake we will use N-1 chi-square test in this A/B test."
   ]
  },
  {
   "cell_type": "markdown",
   "metadata": {
    "ExecuteTime": {
     "end_time": "2018-07-06T15:56:32.759088Z",
     "start_time": "2018-07-06T15:56:32.756127Z"
    }
   },
   "source": [
    "## Hypothesis"
   ]
  },
  {
   "cell_type": "markdown",
   "metadata": {},
   "source": [
    "If search result rankings are based on the new 5 Tier Ranking Model, then users will be more likely to click on a search result that is listed because the search listing will return more accurate results."
   ]
  },
  {
   "cell_type": "markdown",
   "metadata": {
    "ExecuteTime": {
     "end_time": "2018-07-06T16:01:48.562956Z",
     "start_time": "2018-07-06T16:01:48.560161Z"
    }
   },
   "source": [
    "## Analysis"
   ]
  },
  {
   "cell_type": "markdown",
   "metadata": {},
   "source": [
    "The test was run for a total of 22 days at the end of that time period we collected the following samples:"
   ]
  },
  {
   "cell_type": "markdown",
   "metadata": {
    "ExecuteTime": {
     "end_time": "2018-07-06T16:02:17.356096Z",
     "start_time": "2018-07-06T16:02:17.351588Z"
    }
   },
   "source": [
    "<table style=\"border: 1px solid black;\">\n",
    "  <tr>\n",
    "    <th>Version</th>\n",
    "    <th>Conversion</th>\n",
    "    <th>No Conversion</th> \n",
    "    <th>Total</th>\n",
    "  </tr>\n",
    "  <tr>\n",
    "    <td>Control (A)</td>\n",
    "    <td>19398</td>\n",
    "    <td>1377</td>\n",
    "    <td>20775</td>\n",
    "  </tr>\n",
    "  <tr>\n",
    "    <td>Variation (B)</td>\n",
    "    <td>19046</td>\n",
    "    <td>1807</td>\n",
    "    <td>20853</td>\n",
    "  </tr>\n",
    "    <tr>\n",
    "    <td>Total</td>\n",
    "    <td>38444</td>\n",
    "    <td>3184</td>\n",
    "    <td>41628</td>\n",
    "  </tr>\n",
    "</table>"
   ]
  },
  {
   "cell_type": "code",
   "execution_count": 18,
   "metadata": {},
   "outputs": [],
   "source": [
    "# load in necessary libraries\n",
    "import math\n",
    "import numpy as np\n",
    "import scipy.stats as stats\n",
    "import statsmodels.api as sm\n",
    "import statsmodels.stats.power as power\n",
    "import statsmodels.stats as statsm\n",
    "import matplotlib.pyplot as plt\n",
    "import matplotlib.path as mpath\n",
    "import pandas as pd\n",
    "from pandas.core import datetools"
   ]
  },
  {
   "cell_type": "code",
   "execution_count": 3,
   "metadata": {},
   "outputs": [
    {
     "name": "stdout",
     "output_type": "stream",
     "text": [
      "Test Statistic: 60.86057099196304\n",
      "p-value: 6.126365201099651e-15\n",
      "Degrees of Freedom: 1\n",
      "\n",
      "[[19185.98299222 19258.01700778]\n",
      " [ 1589.01700778  1594.98299222]]\n"
     ]
    }
   ],
   "source": [
    "# using the standard chi square test\n",
    "results = [ [19398, 19046], [1377, 1807] ]\n",
    "chi, p, ddof, expected = stats.chi2_contingency( results )\n",
    "msg = \"Test Statistic: {}\\np-value: {}\\nDegrees of Freedom: {}\\n\"\n",
    "print( msg.format( chi, p, ddof ) )\n",
    "print( expected )"
   ]
  },
  {
   "cell_type": "code",
   "execution_count": 4,
   "metadata": {},
   "outputs": [
    {
     "data": {
      "text/plain": [
       "6.106226635438361e-15"
      ]
     },
     "execution_count": 4,
     "metadata": {},
     "output_type": "execute_result"
    }
   ],
   "source": [
    "# Using test values from above, we can calculate the p-value\n",
    "# for the N-1 Chi Square test.\n",
    "\n",
    "# give old chi value a more intuitive name\n",
    "oldchisq = chi\n",
    "# total users in test\n",
    "N = 41628\n",
    "# calculate chi with N-1 correction\n",
    "newchisq = oldchisq*(N/(N-1))\n",
    "# new p value with N-1 correction\n",
    "newp = 1 - stats.chi2.cdf(newchisq, 1)\n",
    "newp"
   ]
  },
  {
   "cell_type": "markdown",
   "metadata": {},
   "source": [
    "#### Was it statistically significant?"
   ]
  },
  {
   "cell_type": "markdown",
   "metadata": {},
   "source": [
    "<i>Yes, the test result was statistically significant.</i>\n",
    "\n",
    "The p-value is calculated as 6.0E-13%. In other words, if this distribution was due to chance, we would see this exact distribution only 6.0E-13% of the time."
   ]
  },
  {
   "cell_type": "markdown",
   "metadata": {},
   "source": [
    "#### Did we account for Type II errors?"
   ]
  },
  {
   "cell_type": "code",
   "execution_count": 64,
   "metadata": {},
   "outputs": [],
   "source": [
    "# Conduct power analysis"
   ]
  },
  {
   "cell_type": "code",
   "execution_count": 33,
   "metadata": {},
   "outputs": [
    {
     "data": {
      "text/plain": [
       "-2.181879433559848"
      ]
     },
     "execution_count": 33,
     "metadata": {},
     "output_type": "execute_result"
    }
   ],
   "source": [
    "# Calculate the effect size.\n",
    "# I.E. percent change.\n",
    "\n",
    "# conversion rate of A\n",
    "Y1 = 19398/20775\n",
    "#conversion rate of B\n",
    "Y2 = 19046/20853\n",
    "effect_size = ((Y2-Y1)/Y1)*100\n",
    "effect_size"
   ]
  },
  {
   "cell_type": "code",
   "execution_count": 36,
   "metadata": {},
   "outputs": [
    {
     "data": {
      "text/plain": [
       "1.0"
      ]
     },
     "execution_count": 36,
     "metadata": {},
     "output_type": "execute_result"
    }
   ],
   "source": [
    "chipower = power.GofChisquarePower()\n",
    "#chipower.solve_power(0.1, nobs=None, alpha=newp, power=0.8)\n",
    "#chipower.solve_power(phi, nobs=None, alpha=newp, power=0.8)\n",
    "\n",
    "# Calculate power based on the measured effect size, the total number\n",
    "# of observations (nobs), and alpha.\n",
    "chipower.solve_power(effect_size=effect_size, nobs=41628, alpha=newp, power=None)\n",
    "# result it rounded up to 1.0"
   ]
  },
  {
   "cell_type": "markdown",
   "metadata": {},
   "source": [
    "### Overtime, was the test statistically significant?"
   ]
  },
  {
   "cell_type": "code",
   "execution_count": 37,
   "metadata": {},
   "outputs": [],
   "source": [
    "# upload conversion data over time into dataframe\n",
    "daily_results = pd.read_csv('data.csv')"
   ]
  },
  {
   "cell_type": "code",
   "execution_count": 38,
   "metadata": {},
   "outputs": [
    {
     "data": {
      "text/html": [
       "<div>\n",
       "<style scoped>\n",
       "    .dataframe tbody tr th:only-of-type {\n",
       "        vertical-align: middle;\n",
       "    }\n",
       "\n",
       "    .dataframe tbody tr th {\n",
       "        vertical-align: top;\n",
       "    }\n",
       "\n",
       "    .dataframe thead th {\n",
       "        text-align: right;\n",
       "    }\n",
       "</style>\n",
       "<table border=\"1\" class=\"dataframe\">\n",
       "  <thead>\n",
       "    <tr style=\"text-align: right;\">\n",
       "      <th></th>\n",
       "      <th>Day</th>\n",
       "      <th>Conversions_A</th>\n",
       "      <th>No_Conversions_A</th>\n",
       "      <th>Visits_A</th>\n",
       "      <th>Conversions_B</th>\n",
       "      <th>No_Conversions_B</th>\n",
       "      <th>Visits_B</th>\n",
       "    </tr>\n",
       "  </thead>\n",
       "  <tbody>\n",
       "    <tr>\n",
       "      <th>0</th>\n",
       "      <td>May 21, 2018</td>\n",
       "      <td>778</td>\n",
       "      <td>-128</td>\n",
       "      <td>650</td>\n",
       "      <td>606</td>\n",
       "      <td>-4</td>\n",
       "      <td>602</td>\n",
       "    </tr>\n",
       "    <tr>\n",
       "      <th>1</th>\n",
       "      <td>May 22, 2018</td>\n",
       "      <td>2115</td>\n",
       "      <td>-38</td>\n",
       "      <td>2077</td>\n",
       "      <td>2049</td>\n",
       "      <td>38</td>\n",
       "      <td>2087</td>\n",
       "    </tr>\n",
       "    <tr>\n",
       "      <th>2</th>\n",
       "      <td>May 23, 2018</td>\n",
       "      <td>3361</td>\n",
       "      <td>-15</td>\n",
       "      <td>3346</td>\n",
       "      <td>3183</td>\n",
       "      <td>110</td>\n",
       "      <td>3293</td>\n",
       "    </tr>\n",
       "  </tbody>\n",
       "</table>\n",
       "</div>"
      ],
      "text/plain": [
       "            Day  Conversions_A  No_Conversions_A  Visits_A  Conversions_B  \\\n",
       "0  May 21, 2018            778              -128       650            606   \n",
       "1  May 22, 2018           2115               -38      2077           2049   \n",
       "2  May 23, 2018           3361               -15      3346           3183   \n",
       "\n",
       "   No_Conversions_B  Visits_B  \n",
       "0                -4       602  \n",
       "1                38      2087  \n",
       "2               110      3293  "
      ]
     },
     "execution_count": 38,
     "metadata": {},
     "output_type": "execute_result"
    }
   ],
   "source": [
    "# check structure of dataframe\n",
    "daily_results.head(3)"
   ]
  },
  {
   "cell_type": "code",
   "execution_count": 39,
   "metadata": {},
   "outputs": [],
   "source": [
    "# insert column for total users in test per day\n",
    "# this is used in later calculations.\n",
    "daily_results['Total_Visits'] = daily_results['Visits_A'] + daily_results['Visits_B']"
   ]
  },
  {
   "cell_type": "code",
   "execution_count": 40,
   "metadata": {},
   "outputs": [
    {
     "data": {
      "text/html": [
       "<div>\n",
       "<style scoped>\n",
       "    .dataframe tbody tr th:only-of-type {\n",
       "        vertical-align: middle;\n",
       "    }\n",
       "\n",
       "    .dataframe tbody tr th {\n",
       "        vertical-align: top;\n",
       "    }\n",
       "\n",
       "    .dataframe thead th {\n",
       "        text-align: right;\n",
       "    }\n",
       "</style>\n",
       "<table border=\"1\" class=\"dataframe\">\n",
       "  <thead>\n",
       "    <tr style=\"text-align: right;\">\n",
       "      <th></th>\n",
       "      <th>Day</th>\n",
       "      <th>Conversions_A</th>\n",
       "      <th>No_Conversions_A</th>\n",
       "      <th>Visits_A</th>\n",
       "      <th>Conversions_B</th>\n",
       "      <th>No_Conversions_B</th>\n",
       "      <th>Visits_B</th>\n",
       "      <th>Total_Visits</th>\n",
       "    </tr>\n",
       "  </thead>\n",
       "  <tbody>\n",
       "    <tr>\n",
       "      <th>0</th>\n",
       "      <td>May 21, 2018</td>\n",
       "      <td>778</td>\n",
       "      <td>-128</td>\n",
       "      <td>650</td>\n",
       "      <td>606</td>\n",
       "      <td>-4</td>\n",
       "      <td>602</td>\n",
       "      <td>1252</td>\n",
       "    </tr>\n",
       "    <tr>\n",
       "      <th>1</th>\n",
       "      <td>May 22, 2018</td>\n",
       "      <td>2115</td>\n",
       "      <td>-38</td>\n",
       "      <td>2077</td>\n",
       "      <td>2049</td>\n",
       "      <td>38</td>\n",
       "      <td>2087</td>\n",
       "      <td>4164</td>\n",
       "    </tr>\n",
       "    <tr>\n",
       "      <th>2</th>\n",
       "      <td>May 23, 2018</td>\n",
       "      <td>3361</td>\n",
       "      <td>-15</td>\n",
       "      <td>3346</td>\n",
       "      <td>3183</td>\n",
       "      <td>110</td>\n",
       "      <td>3293</td>\n",
       "      <td>6639</td>\n",
       "    </tr>\n",
       "  </tbody>\n",
       "</table>\n",
       "</div>"
      ],
      "text/plain": [
       "            Day  Conversions_A  No_Conversions_A  Visits_A  Conversions_B  \\\n",
       "0  May 21, 2018            778              -128       650            606   \n",
       "1  May 22, 2018           2115               -38      2077           2049   \n",
       "2  May 23, 2018           3361               -15      3346           3183   \n",
       "\n",
       "   No_Conversions_B  Visits_B  Total_Visits  \n",
       "0                -4       602          1252  \n",
       "1                38      2087          4164  \n",
       "2               110      3293          6639  "
      ]
     },
     "execution_count": 40,
     "metadata": {},
     "output_type": "execute_result"
    }
   ],
   "source": [
    "# check that new column was created successfully\n",
    "daily_results.head(3)"
   ]
  },
  {
   "cell_type": "code",
   "execution_count": 41,
   "metadata": {},
   "outputs": [],
   "source": [
    "# Now we will need to perform some data restructuring so that\n",
    "# we can use it with stats library and iterate over dates.\n",
    "\n",
    "\n",
    "# create dataframe for conversion values only\n",
    "Conversions = daily_results[['Conversions_A', 'Conversions_B']].copy()"
   ]
  },
  {
   "cell_type": "code",
   "execution_count": 42,
   "metadata": {},
   "outputs": [],
   "source": [
    "# convert conversion dataframe into list\n",
    "Conversions = Conversions.values.tolist()"
   ]
  },
  {
   "cell_type": "code",
   "execution_count": 43,
   "metadata": {},
   "outputs": [],
   "source": [
    "# create dataframe from non-conversion values only\n",
    "NonConversions = daily_results[['No_Conversions_A', 'No_Conversions_B']].copy()"
   ]
  },
  {
   "cell_type": "code",
   "execution_count": 44,
   "metadata": {},
   "outputs": [],
   "source": [
    "# convert nonconversion dataframe into list\n",
    "NonConversions = NonConversions.values.tolist()"
   ]
  },
  {
   "cell_type": "code",
   "execution_count": 45,
   "metadata": {},
   "outputs": [
    {
     "data": {
      "text/plain": [
       "[([778, 606], [-128, -4]),\n",
       " ([2115, 2049], [-38, 38]),\n",
       " ([3361, 3183], [-15, 110]),\n",
       " ([4512, 4179], [-105, 185]),\n",
       " ([5326, 5079], [66, 257]),\n",
       " ([5578, 5293], [51, 286]),\n",
       " ([5902, 5574], [105, 358]),\n",
       " ([6872, 6450], [237, 512]),\n",
       " ([8248, 7736], [290, 623]),\n",
       " ([9515, 9048], [425, 727]),\n",
       " ([10813, 10227], [461, 887]),\n",
       " ([11697, 11313], [581, 881]),\n",
       " ([11884, 11478], [628, 959]),\n",
       " ([12241, 11791], [661, 1044]),\n",
       " ([13518, 13142], [748, 1099]),\n",
       " ([14838, 14464], [925, 1240]),\n",
       " ([16283, 15695], [1005, 1463]),\n",
       " ([17488, 17041], [1205, 1590]),\n",
       " ([18409, 18004], [1316, 1693]),\n",
       " ([18585, 18277], [1339, 1660]),\n",
       " ([18893, 18563], [1375, 1730]),\n",
       " ([19695, 19354], [1379, 1846])]"
      ]
     },
     "execution_count": 45,
     "metadata": {},
     "output_type": "execute_result"
    }
   ],
   "source": [
    "# create a list from our conversion and nonconversion lists\n",
    "new_list = [*zip(Conversions, NonConversions)]\n",
    "# check structure of list\n",
    "new_list"
   ]
  },
  {
   "cell_type": "code",
   "execution_count": 46,
   "metadata": {},
   "outputs": [
    {
     "data": {
      "text/plain": [
       "[([5326, 5079], [66, 257]),\n",
       " ([5578, 5293], [51, 286]),\n",
       " ([5902, 5574], [105, 358]),\n",
       " ([6872, 6450], [237, 512]),\n",
       " ([8248, 7736], [290, 623]),\n",
       " ([9515, 9048], [425, 727]),\n",
       " ([10813, 10227], [461, 887]),\n",
       " ([11697, 11313], [581, 881]),\n",
       " ([11884, 11478], [628, 959]),\n",
       " ([12241, 11791], [661, 1044]),\n",
       " ([13518, 13142], [748, 1099]),\n",
       " ([14838, 14464], [925, 1240]),\n",
       " ([16283, 15695], [1005, 1463]),\n",
       " ([17488, 17041], [1205, 1590]),\n",
       " ([18409, 18004], [1316, 1693]),\n",
       " ([18585, 18277], [1339, 1660]),\n",
       " ([18893, 18563], [1375, 1730]),\n",
       " ([19695, 19354], [1379, 1846])]"
      ]
     },
     "execution_count": 46,
     "metadata": {},
     "output_type": "execute_result"
    }
   ],
   "source": [
    "# cannot use negative values so they need to be removed\n",
    "new_list_copy = new_list[4:]\n",
    "new_list_copy\n",
    "# ToDo: automate removal of negatives for future tests"
   ]
  },
  {
   "cell_type": "code",
   "execution_count": 47,
   "metadata": {},
   "outputs": [],
   "source": [
    "# create list for total users in each test\n",
    "\n",
    "# extract the column we want\n",
    "Total_Visits = daily_results['Total_Visits']\n",
    "# convert column into list\n",
    "Total_Visits = Total_Visits.values.tolist()\n",
    "# remove dates to match with removal from conversion list,\n",
    "# aka'new_list_copy'\n",
    "Total_Visits_copy = Total_Visits[4:]\n",
    "# ToDo: automate this along with the removal of negatives."
   ]
  },
  {
   "cell_type": "code",
   "execution_count": 48,
   "metadata": {},
   "outputs": [
    {
     "data": {
      "text/plain": [
       "[10728,\n",
       " 11208,\n",
       " 11939,\n",
       " 14071,\n",
       " 16897,\n",
       " 19715,\n",
       " 22388,\n",
       " 24472,\n",
       " 24949,\n",
       " 25737,\n",
       " 28507,\n",
       " 31467,\n",
       " 34446,\n",
       " 37324,\n",
       " 39422,\n",
       " 39861,\n",
       " 40561,\n",
       " 42274]"
      ]
     },
     "execution_count": 48,
     "metadata": {},
     "output_type": "execute_result"
    }
   ],
   "source": [
    "Total_Visits_copy"
   ]
  },
  {
   "cell_type": "code",
   "execution_count": 49,
   "metadata": {},
   "outputs": [],
   "source": [
    "# use my two lists to calculate the p for each day\n",
    "# lists: new_list_copy, Total_Visits\n",
    "\n",
    "historical_p = []\n",
    "#for i,j in [(i,j) for i in new_list_copy for j in Total_Visits]:\n",
    "for i, j in zip(new_list_copy, Total_Visits_copy):\n",
    "    chi, p, ddof, expected = stats.chi2_contingency( i )\n",
    "    #N = j\n",
    "    #new_chisq = chi*(N/(N-1))\n",
    "    #updated_p = 1 - stats.chi2.cdf(new_chisq, 1)\n",
    "    historical_p.append(p)"
   ]
  },
  {
   "cell_type": "code",
   "execution_count": 50,
   "metadata": {},
   "outputs": [
    {
     "data": {
      "text/plain": [
       "[2.478136481724884e-27,\n",
       " 8.688988483748642e-39,\n",
       " 1.2917427370717076e-33,\n",
       " 3.544601491643042e-26,\n",
       " 3.011606594976372e-31,\n",
       " 4.0077868661460154e-21,\n",
       " 2.693695590948898e-34,\n",
       " 2.4072033735064406e-16,\n",
       " 3.812343318482802e-18,\n",
       " 3.4889589803942373e-22,\n",
       " 2.666933997688351e-17,\n",
       " 1.4037486692545963e-12,\n",
       " 1.9937274740562181e-22,\n",
       " 2.1225822316500802e-14,\n",
       " 7.356102120296623e-13,\n",
       " 1.379714203561979e-09,\n",
       " 4.85731606811208e-11,\n",
       " 6.173878924958704e-17]"
      ]
     },
     "execution_count": 50,
     "metadata": {},
     "output_type": "execute_result"
    }
   ],
   "source": [
    "historical_p"
   ]
  },
  {
   "cell_type": "code",
   "execution_count": 55,
   "metadata": {},
   "outputs": [
    {
     "data": {
      "image/png": "[encoded data removed]",
      "text/plain": [
       "<matplotlib.figure.Figure at 0x1c143212b0>"
      ]
     },
     "metadata": {},
     "output_type": "display_data"
    }
   ],
   "source": [
    "x = list(range(len(historical_p)))\n",
    "y = historical_p\n",
    "\n",
    "plt.scatter(x, y)\n",
    "plt.plot(historical_p)\n",
    "plt.ylabel('p-value')\n",
    "plt.xlabel('Days')\n",
    "plt.xlim(0,18)\n",
    "plt.show()\n",
    "\n",
    "# note we did not include the first four days of the test\n",
    "# due to the way the data is gathered"
   ]
  },
  {
   "cell_type": "markdown",
   "metadata": {},
   "source": [
    "### Test Results"
   ]
  },
  {
   "cell_type": "markdown",
   "metadata": {},
   "source": [
    "The test results were statistically significant, so we can positively say that the Control (original version of the search results output) has performed better than the Variation (5-Tier Ranking Model)."
   ]
  },
  {
   "cell_type": "code",
   "execution_count": 62,
   "metadata": {},
   "outputs": [
    {
     "name": "stdout",
     "output_type": "stream",
     "text": [
      "Control Click Thru Rate: 93.37%\n",
      "Variation Click Thru Rate: 91.33%\n"
     ]
    }
   ],
   "source": [
    "print(\"Control Click Thru Rate: {0:.2f}%\".format(Y1 * 100))\n",
    "print(\"Variation Click Thru Rate: {0:.2f}%\".format(Y2 * 100))"
   ]
  },
  {
   "cell_type": "markdown",
   "metadata": {},
   "source": [
    "<b>Winner</b>: Control "
   ]
  },
  {
   "cell_type": "markdown",
   "metadata": {},
   "source": [
    "<b><u>References</b></u>\n",
    "<br>\n",
    "[1] Sauro, Jeff, and James R. Lewis. <i>Quantifying the User Experience: Practical Statistics for User Research</i>. Morgan Kaufmann, 2016.\n",
    "<br>\n",
    "<br>\n",
    "[2] Campbell, I. (2007), <i>Chi‐squared and Fisher–Irwin tests of two‐by‐two tables with small sample recommendations</i>. Statist. Med., 26: 3661-3675. doi:10.1002/sim.2832\n",
    "<br>\n",
    "<br>\n",
    "[3] Wallis, Sean. <i>z-Squared: The Origin and Application of χ2</i>. 2010, www.ucl.ac.uk/english-usage/staff/sean/resources/z-squared.pdf."
   ]
  },
  {
   "cell_type": "markdown",
   "metadata": {},
   "source": [
    "<b>Quote from <i>Quantifying the User Experience: Practical Statistics for User Research</i> p. 73:</b>\n",
    "<p>\"Comparing the two outcomes of binary variables for two independent groups happens to be one of the most frequently computed procedures in applied statistics.  Surprisingly, there is little agreement on the best statistical test for this situation. For large sample sizes, the chi-square test is typically recommended. However, there is disagreement on what constitutes a 'small' or 'large' sample size and what version of these tests to use. A recent survey of medical and general statistics textbooks by Campbell (2007) found that only 2 of 14 books agreed on what procedure to recommend for comparing two independent binary outcomes.</p>\n",
    "<p>The latest research suggests that a slight adjustment to the standard chi-square test, and equivalently to the two-proportion test, generates the best results for almost all sample sizes. The adjustment is simply subtracting 1 from the total sample size and using it in the standard chi-square or two-proportion test formulas. Because there is so much debate on this topic we spend the next few pages describing the alternatives which you are likely to encounter (or were taught) and then present the recommended N-1 chi-square test and N-1 two-proportion test.\"</p>"
   ]
  }
 ],
 "metadata": {
  "kernelspec": {
   "display_name": "Python 3",
   "language": "python",
   "name": "python3"
  },
  "language_info": {
   "codemirror_mode": {
    "name": "ipython",
    "version": 3
   },
   "file_extension": ".py",
   "mimetype": "text/x-python",
   "name": "python",
   "nbconvert_exporter": "python",
   "pygments_lexer": "ipython3",
   "version": "3.6.4"
  },
  "toc": {
   "base_numbering": 1,
   "nav_menu": {},
   "number_sections": true,
   "sideBar": true,
   "skip_h1_title": false,
   "title_cell": "Table of Contents",
   "title_sidebar": "Contents",
   "toc_cell": false,
   "toc_position": {},
   "toc_section_display": true,
   "toc_window_display": false
  }
 },
 "nbformat": 4,
 "nbformat_minor": 2
}
