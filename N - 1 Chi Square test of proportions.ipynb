{
 "cells": [
  {
   "cell_type": "markdown",
   "metadata": {
    "ExecuteTime": {
     "end_time": "2018-07-06T15:57:00.997193Z",
     "start_time": "2018-07-06T15:57:00.994043Z"
    }
   },
   "source": [
    "### Analysis Methods"
   ]
  },
  {
   "cell_type": "markdown",
   "metadata": {
    "ExecuteTime": {
     "end_time": "2018-07-06T14:43:50.131401Z",
     "start_time": "2018-07-06T14:43:50.093675Z"
    }
   },
   "source": [
    "For this analysis we will be using the nonparametric method of the N-1 chi-square test. This test makes fewer assumptions about the underlying data than z- or t-tests. [1][2]\n",
    "\n",
    "\\begin{align}\n",
    "{\\chi}^2 = \\frac{(ad-bc)^2(N-1)}{mnrs}\n",
    "\\end{align}\n",
    "\n",
    "Where\n",
    "<br>\n",
    "<table style=\"border: 1px solid black;\">\n",
    "  <tr>\n",
    "    <th> </th>\n",
    "    <th>Pass (Yes)</th> \n",
    "    <th>Fail (No)</th>\n",
    "    <th>Total</th>\n",
    "  </tr>\n",
    "  <tr>\n",
    "    <td>Design A</td>\n",
    "    <td><i>a</i></td>\n",
    "    <td><i>b</i></td>\n",
    "    <td><i>m</i></td>\n",
    "  </tr>\n",
    "  <tr>\n",
    "    <td>Design B</td>\n",
    "    <td><i>c</i></td>\n",
    "    <td><i>d</i></td>\n",
    "    <td><i>n</i></td>\n",
    "  </tr>\n",
    "  <tr>\n",
    "    <td>Total</td>\n",
    "    <td><i>r</i></td>\n",
    "    <td><i>s</i></td>\n",
    "    <td><i>N</i></td>\n",
    "  </tr>\n",
    "</table>\n",
    "\n",
    "An alternative way of analyzing this A/B test is to compare the differences in proportions with the N-1 two proportion tests (using the normal z distribution); the N-1 two proportion test is mathematically equivalent to the N-1 chi-square test.[3] \n",
    "<br><br>\n",
    "When working with more variations beyond the standard A/B test (A/B/C etc), it is best practice to use the Chi-Squared test [1], thus for consistency sake we will use N-1 chi-square test in this A/B test."
   ]
  },
  {
   "cell_type": "markdown",
   "metadata": {},
   "source": [
    "<b>Power</b>\n",
    "<br>\n",
    "The power of the N-1 chi-square independence test is given by:\n",
    "\n",
    "\\begin{align}\n",
    "1 - \\beta = F_{df},\\lambda(x_{crit})\n",
    "\\end{align}"
   ]
  },
  {
   "cell_type": "markdown",
   "metadata": {
    "ExecuteTime": {
     "start_time": "2018-07-06T18:53:30.722Z"
    }
   },
   "source": [
    "where,\n",
    "<br>\n",
    "&emsp;<i>$F_{df}$</i> is the cumulative distribution function\n",
    "<br>\n",
    "&emsp;<i>$x_{crit}$</i> is the critical value\n",
    "<br>\n",
    "&emsp;<i>&lambda;</i>=<i>$w^{2}$n</i>, is the noncentrality parameter where <i>w</i> is the &phi; effect size.\n",
    "<br>\n",
    "and"
   ]
  },
  {
   "cell_type": "markdown",
   "metadata": {},
   "source": [
    "\\begin{align}\n",
    "\\varphi = \\sqrt{\\frac{ {\\chi}^2}{n-1} }\n",
    "\\end{align}"
   ]
  },
  {
   "cell_type": "markdown",
   "metadata": {
    "ExecuteTime": {
     "end_time": "2018-07-06T15:56:32.759088Z",
     "start_time": "2018-07-06T15:56:32.756127Z"
    }
   },
   "source": [
    "### Hypothesis"
   ]
  },
  {
   "cell_type": "markdown",
   "metadata": {},
   "source": [
    "If search result rankings are based on the new 5 Tier Ranking Model, then users will be more likely to click on a search result that is listed because the search listing will return more accurate results."
   ]
  },
  {
   "cell_type": "markdown",
   "metadata": {
    "ExecuteTime": {
     "end_time": "2018-07-06T16:01:48.562956Z",
     "start_time": "2018-07-06T16:01:48.560161Z"
    }
   },
   "source": [
    "### Analysis"
   ]
  },
  {
   "cell_type": "markdown",
   "metadata": {},
   "source": [
    "The test was run for a total of 22 days at the end of that time period we collected the following samples:"
   ]
  },
  {
   "cell_type": "markdown",
   "metadata": {
    "ExecuteTime": {
     "end_time": "2018-07-06T16:02:17.356096Z",
     "start_time": "2018-07-06T16:02:17.351588Z"
    }
   },
   "source": [
    "<table style=\"border: 1px solid black;\">\n",
    "  <tr>\n",
    "    <th>Version</th>\n",
    "    <th>Conversion</th>\n",
    "    <th>No Conversion</th> \n",
    "    <th>Total</th>\n",
    "  </tr>\n",
    "  <tr>\n",
    "    <td>Control (A)</td>\n",
    "    <td>19398</td>\n",
    "    <td>1377</td>\n",
    "    <td>20775</td>\n",
    "  </tr>\n",
    "  <tr>\n",
    "    <td>Variation (b)</td>\n",
    "    <td>19046</td>\n",
    "    <td>1807</td>\n",
    "    <td>20853</td>\n",
    "  </tr>\n",
    "    <tr>\n",
    "    <td>Total</td>\n",
    "    <td>38444</td>\n",
    "    <td>3184</td>\n",
    "    <td>41628</td>\n",
    "  </tr>\n",
    "</table>"
   ]
  },
  {
   "cell_type": "code",
   "execution_count": 11,
   "metadata": {},
   "outputs": [
    {
     "name": "stderr",
     "output_type": "stream",
     "text": [
      "/Users/mary/anaconda3/lib/python3.6/site-packages/statsmodels/compat/pandas.py:56: FutureWarning: The pandas.core.datetools module is deprecated and will be removed in a future version. Please use the pandas.tseries module instead.\n",
      "  from pandas.core import datetools\n"
     ]
    }
   ],
   "source": [
    "# load in necessary libraries\n",
    "import numpy as np\n",
    "import pandas as pd\n",
    "import scipy.stats as stats\n",
    "import statsmodels.api as sm"
   ]
  },
  {
   "cell_type": "code",
   "execution_count": 4,
   "metadata": {},
   "outputs": [],
   "source": [
    "# create dataframe for end results\n",
    "d = {'con': [19398, 19046], 'non-con': [1377, 1807]}\n",
    "end_results = pd.DataFrame(data=d)"
   ]
  },
  {
   "cell_type": "code",
   "execution_count": 5,
   "metadata": {},
   "outputs": [
    {
     "data": {
      "text/html": [
       "<div>\n",
       "<style scoped>\n",
       "    .dataframe tbody tr th:only-of-type {\n",
       "        vertical-align: middle;\n",
       "    }\n",
       "\n",
       "    .dataframe tbody tr th {\n",
       "        vertical-align: top;\n",
       "    }\n",
       "\n",
       "    .dataframe thead th {\n",
       "        text-align: right;\n",
       "    }\n",
       "</style>\n",
       "<table border=\"1\" class=\"dataframe\">\n",
       "  <thead>\n",
       "    <tr style=\"text-align: right;\">\n",
       "      <th></th>\n",
       "      <th>con</th>\n",
       "      <th>non-con</th>\n",
       "    </tr>\n",
       "  </thead>\n",
       "  <tbody>\n",
       "    <tr>\n",
       "      <th>0</th>\n",
       "      <td>19398</td>\n",
       "      <td>1377</td>\n",
       "    </tr>\n",
       "    <tr>\n",
       "      <th>1</th>\n",
       "      <td>19046</td>\n",
       "      <td>1807</td>\n",
       "    </tr>\n",
       "  </tbody>\n",
       "</table>\n",
       "</div>"
      ],
      "text/plain": [
       "     con  non-con\n",
       "0  19398     1377\n",
       "1  19046     1807"
      ]
     },
     "execution_count": 5,
     "metadata": {},
     "output_type": "execute_result"
    }
   ],
   "source": [
    "#print dataframe\n",
    "end_results"
   ]
  },
  {
   "cell_type": "code",
   "execution_count": 7,
   "metadata": {},
   "outputs": [
    {
     "name": "stdout",
     "output_type": "stream",
     "text": [
      "Test Statistic: 60.86057099196304\n",
      "p-value: 6.126365201099651e-15\n",
      "Degrees of Freedom: 1\n",
      "\n",
      "[[19185.98299222 19258.01700778]\n",
      " [ 1589.01700778  1594.98299222]]\n"
     ]
    }
   ],
   "source": [
    "# using the standard chi square test\n",
    "house = [ [19398, 19046], [1377, 1807] ]\n",
    "chi2, p, ddof, expected = stats.chi2_contingency( house )\n",
    "msg = \"Test Statistic: {}\\np-value: {}\\nDegrees of Freedom: {}\\n\"\n",
    "print( msg.format( chi2, p, ddof ) )\n",
    "print( expected )"
   ]
  },
  {
   "cell_type": "code",
   "execution_count": 8,
   "metadata": {
    "scrolled": true
   },
   "outputs": [
    {
     "data": {
      "text/plain": [
       "60.86057099196304"
      ]
     },
     "execution_count": 8,
     "metadata": {},
     "output_type": "execute_result"
    }
   ],
   "source": [
    "chi2"
   ]
  },
  {
   "cell_type": "code",
   "execution_count": 10,
   "metadata": {},
   "outputs": [
    {
     "data": {
      "text/plain": [
       "6.106226635438361e-15"
      ]
     },
     "execution_count": 10,
     "metadata": {},
     "output_type": "execute_result"
    }
   ],
   "source": [
    "# give old chi value a more intuitive name\n",
    "oldchisq = chi2\n",
    "# total users in test\n",
    "N = 41628\n",
    "\n",
    "# calculate chi with N-1 correction\n",
    "newchisq = oldchisq*N/(N-1)\n",
    "# new p value with N-1 correction\n",
    "newp = 1 - stats.chi2.cdf(newchisq, 1)\n",
    "newp"
   ]
  },
  {
   "cell_type": "code",
   "execution_count": 22,
   "metadata": {},
   "outputs": [
    {
     "name": "stderr",
     "output_type": "stream",
     "text": [
      "/Users/mary/anaconda3/lib/python3.6/site-packages/statsmodels/stats/proportion.py:806: RuntimeWarning: invalid value encountered in sqrt\n",
      "  std_diff = np.sqrt(var_)\n"
     ]
    },
    {
     "data": {
      "text/plain": [
       "nan"
      ]
     },
     "execution_count": 22,
     "metadata": {},
     "output_type": "execute_result"
    }
   ],
   "source": [
    "# try it out with z test of proportions\n",
    "#import statsmodels.api as sm\n",
    "#z_score, p_value = sm.stats.proportions_ztest( [19398, 19046], [1377, 1807] )\n",
    "\n",
    "#msg2 = \"Critical Value: {}\\np-value: {}\\n\"\n",
    "#print(msg.format(z_score, p_value))\n",
    "\n",
    "\n",
    "z_score, p_value = sm.stats.proportions_ztest([19398, 20775], [19046, 20853]) #successes and visits for A and then B\n",
    "z_score"
   ]
  },
  {
   "cell_type": "code",
   "execution_count": 23,
   "metadata": {},
   "outputs": [
    {
     "data": {
      "text/plain": [
       "nan"
      ]
     },
     "execution_count": 23,
     "metadata": {},
     "output_type": "execute_result"
    }
   ],
   "source": [
    "p_value"
   ]
  },
  {
   "cell_type": "markdown",
   "metadata": {},
   "source": [
    "The p-value is calculated as 0.000000000000006. In other words, if this distribution was due to chance, we would see exactly this distribution only 0.06% of the time"
   ]
  },
  {
   "cell_type": "markdown",
   "metadata": {},
   "source": [
    "### Test Results"
   ]
  },
  {
   "cell_type": "code",
   "execution_count": null,
   "metadata": {},
   "outputs": [],
   "source": []
  },
  {
   "cell_type": "markdown",
   "metadata": {},
   "source": [
    "### Recommendations"
   ]
  },
  {
   "cell_type": "code",
   "execution_count": null,
   "metadata": {},
   "outputs": [],
   "source": []
  },
  {
   "cell_type": "code",
   "execution_count": null,
   "metadata": {},
   "outputs": [],
   "source": []
  },
  {
   "cell_type": "markdown",
   "metadata": {},
   "source": [
    "<b><u>References</b></u>\n",
    "<br>\n",
    "[1] Sauro, Jeff, and James R. Lewis. <i>Quantifying the User Experience: Practical Statistics for User Research</i>. Morgan Kaufmann, 2016.\n",
    "<br>\n",
    "<br>\n",
    "[2] Campbell, I. (2007), <i>Chi‐squared and Fisher–Irwin tests of two‐by‐two tables with small sample recommendations</i>. Statist. Med., 26: 3661-3675. doi:10.1002/sim.2832\n",
    "<br>\n",
    "<br>\n",
    "[3] Wallis, Sean. <i>z-Squared: The Origin and Application of χ2</i>. 2010, www.ucl.ac.uk/english-usage/staff/sean/resources/z-squared.pdf."
   ]
  }
 ],
 "metadata": {
  "kernelspec": {
   "display_name": "Python 3",
   "language": "python",
   "name": "python3"
  },
  "language_info": {
   "codemirror_mode": {
    "name": "ipython",
    "version": 3
   },
   "file_extension": ".py",
   "mimetype": "text/x-python",
   "name": "python",
   "nbconvert_exporter": "python",
   "pygments_lexer": "ipython3",
   "version": "3.6.4"
  },
  "toc": {
   "base_numbering": 1,
   "nav_menu": {},
   "number_sections": true,
   "sideBar": true,
   "skip_h1_title": false,
   "title_cell": "Table of Contents",
   "title_sidebar": "Contents",
   "toc_cell": false,
   "toc_position": {},
   "toc_section_display": true,
   "toc_window_display": false
  }
 },
 "nbformat": 4,
 "nbformat_minor": 2
}
