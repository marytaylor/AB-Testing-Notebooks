{
 "cells": [
  {
   "cell_type": "markdown",
   "metadata": {
    "ExecuteTime": {
     "end_time": "2018-07-06T15:57:00.997193Z",
     "start_time": "2018-07-06T15:57:00.994043Z"
    }
   },
   "source": [
    "### Analysis Methods"
   ]
  },
  {
   "cell_type": "markdown",
   "metadata": {
    "ExecuteTime": {
     "end_time": "2018-07-06T14:43:50.131401Z",
     "start_time": "2018-07-06T14:43:50.093675Z"
    }
   },
   "source": [
    "For this analysis we will be using the nonparametric method of the N-1 chi-square test. This test makes fewer assumptions about the underlying data than z- or t-tests. [1][2]\n",
    "\n",
    "\\begin{align}\n",
    "{\\chi}^2 = \\frac{(ad-bc)^2(N-1)}{mnrs}\n",
    "\\end{align}\n",
    "\n",
    "Where\n",
    "<br>\n",
    "<table style=\"border: 1px solid black;\">\n",
    "  <tr>\n",
    "    <th> </th>\n",
    "    <th>Pass (Yes)</th> \n",
    "    <th>Fail (No)</th>\n",
    "    <th>Total</th>\n",
    "  </tr>\n",
    "  <tr>\n",
    "    <td>Design A</td>\n",
    "    <td><i>a</i></td>\n",
    "    <td><i>b</i></td>\n",
    "    <td><i>m</i></td>\n",
    "  </tr>\n",
    "  <tr>\n",
    "    <td>Design B</td>\n",
    "    <td><i>c</i></td>\n",
    "    <td><i>d</i></td>\n",
    "    <td><i>n</i></td>\n",
    "  </tr>\n",
    "  <tr>\n",
    "    <td>Total</td>\n",
    "    <td><i>r</i></td>\n",
    "    <td><i>s</i></td>\n",
    "    <td><i>N</i></td>\n",
    "  </tr>\n",
    "</table>\n",
    "\n",
    "An alternative way of analyzing this A/B test is to compare the differences in proportions with the N-1 two proportion tests (using the normal z distribution); the N-1 two proportion test is mathematically equivalent to the N-1 chi-square test.[3] \n",
    "<br><br>\n",
    "When working with more variations beyond the standard A/B test (A/B/C etc), it is best practice to use the Chi-Squared test [1], thus for consistency sake we will use N-1 chi-square test in this A/B test."
   ]
  },
  {
   "cell_type": "markdown",
   "metadata": {},
   "source": [
    "<b>Power</b>\n",
    "<br>\n",
    "The power of the N-1 chi-square independence test is given by:\n",
    "\n",
    "\\begin{align}\n",
    "1 - \\beta = F_{df},\\lambda(x_{crit})\n",
    "\\end{align}"
   ]
  },
  {
   "cell_type": "markdown",
   "metadata": {
    "ExecuteTime": {
     "start_time": "2018-07-06T18:53:30.722Z"
    }
   },
   "source": [
    "where,\n",
    "<br>\n",
    "&emsp;<i>$F_{df}$</i> is the cumulative distribution function\n",
    "<br>\n",
    "&emsp;<i>$x_{crit}$</i> is the critical value\n",
    "<br>\n",
    "&emsp;<i>&lambda;</i>=<i>$w^{2}$n</i>, is the noncentrality parameter where <i>w</i> is the &phi; effect size.\n",
    "<br>\n",
    "and"
   ]
  },
  {
   "cell_type": "markdown",
   "metadata": {},
   "source": [
    "\\begin{align}\n",
    "\\varphi = \\sqrt{\\frac{ {\\chi}^2}{n-1} }\n",
    "\\end{align}"
   ]
  },
  {
   "cell_type": "markdown",
   "metadata": {
    "ExecuteTime": {
     "end_time": "2018-07-06T15:56:32.759088Z",
     "start_time": "2018-07-06T15:56:32.756127Z"
    }
   },
   "source": [
    "### Hypothesis"
   ]
  },
  {
   "cell_type": "markdown",
   "metadata": {},
   "source": [
    "If search result rankings are based on the new 5 Tier Ranking Model, then users will be more likely to click on a search result that is listed because the search listing will return more accurate results."
   ]
  },
  {
   "cell_type": "markdown",
   "metadata": {
    "ExecuteTime": {
     "end_time": "2018-07-06T16:01:48.562956Z",
     "start_time": "2018-07-06T16:01:48.560161Z"
    }
   },
   "source": [
    "### Analysis"
   ]
  },
  {
   "cell_type": "markdown",
   "metadata": {},
   "source": [
    "The test was run for a total of 22 days at the end of that time period we collected the following samples:"
   ]
  },
  {
   "cell_type": "markdown",
   "metadata": {
    "ExecuteTime": {
     "end_time": "2018-07-06T16:02:17.356096Z",
     "start_time": "2018-07-06T16:02:17.351588Z"
    }
   },
   "source": [
    "<table style=\"border: 1px solid black;\">\n",
    "  <tr>\n",
    "    <th>Version</th>\n",
    "    <th>Conversion</th>\n",
    "    <th>No Conversion</th> \n",
    "    <th>Total</th>\n",
    "  </tr>\n",
    "  <tr>\n",
    "    <td>Control (A)</td>\n",
    "    <td>19398</td>\n",
    "    <td>1377</td>\n",
    "    <td>20775</td>\n",
    "  </tr>\n",
    "  <tr>\n",
    "    <td>Variation (b)</td>\n",
    "    <td>19046</td>\n",
    "    <td>1807</td>\n",
    "    <td>20853</td>\n",
    "  </tr>\n",
    "    <tr>\n",
    "    <td>Total</td>\n",
    "    <td>38444</td>\n",
    "    <td>3184</td>\n",
    "    <td>41628</td>\n",
    "  </tr>\n",
    "</table>"
   ]
  },
  {
   "cell_type": "code",
   "execution_count": null,
   "metadata": {},
   "outputs": [],
   "source": []
  },
  {
   "cell_type": "code",
   "execution_count": null,
   "metadata": {},
   "outputs": [],
   "source": []
  },
  {
   "cell_type": "code",
   "execution_count": null,
   "metadata": {},
   "outputs": [],
   "source": []
  },
  {
   "cell_type": "code",
   "execution_count": null,
   "metadata": {},
   "outputs": [],
   "source": []
  },
  {
   "cell_type": "code",
   "execution_count": null,
   "metadata": {},
   "outputs": [],
   "source": []
  },
  {
   "cell_type": "markdown",
   "metadata": {},
   "source": [
    "<b><u>References</b></u>\n",
    "<br>\n",
    "[1] Sauro, Jeff, and James R. Lewis. <i>Quantifying the User Experience: Practical Statistics for User Research</i>. Morgan Kaufmann, 2016.\n",
    "<br>\n",
    "<br>\n",
    "[2] Campbell, I. (2007), <i>Chi‐squared and Fisher–Irwin tests of two‐by‐two tables with small sample recommendations</i>. Statist. Med., 26: 3661-3675. doi:10.1002/sim.2832\n",
    "<br>\n",
    "<br>\n",
    "[3] Wallis, Sean. <i>z-Squared: The Origin and Application of χ2</i>. 2010, www.ucl.ac.uk/english-usage/staff/sean/resources/z-squared.pdf."
   ]
  }
 ],
 "metadata": {
  "kernelspec": {
   "display_name": "Python 3",
   "language": "python",
   "name": "python3"
  },
  "language_info": {
   "codemirror_mode": {
    "name": "ipython",
    "version": 3
   },
   "file_extension": ".py",
   "mimetype": "text/x-python",
   "name": "python",
   "nbconvert_exporter": "python",
   "pygments_lexer": "ipython3",
   "version": "3.5.1"
  },
  "toc": {
   "base_numbering": 1,
   "nav_menu": {},
   "number_sections": true,
   "sideBar": true,
   "skip_h1_title": false,
   "title_cell": "Table of Contents",
   "title_sidebar": "Contents",
   "toc_cell": false,
   "toc_position": {},
   "toc_section_display": true,
   "toc_window_display": false
  }
 },
 "nbformat": 4,
 "nbformat_minor": 2
}
