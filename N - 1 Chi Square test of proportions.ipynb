{
 "cells": [
  {
   "cell_type": "markdown",
   "metadata": {
    "ExecuteTime": {
     "end_time": "2018-07-06T15:57:00.997193Z",
     "start_time": "2018-07-06T15:57:00.994043Z"
    }
   },
   "source": [
    "## Analysis Methods"
   ]
  },
  {
   "cell_type": "markdown",
   "metadata": {
    "ExecuteTime": {
     "end_time": "2018-07-06T14:43:50.131401Z",
     "start_time": "2018-07-06T14:43:50.093675Z"
    }
   },
   "source": [
    "For this analysis we will be using the nonparametric method of the N-1 chi-square test. This test makes fewer assumptions about the underlying data than z- or t-tests. [1][2]\n",
    "\n",
    "\\begin{align}\n",
    "{\\chi}^2 = \\frac{(ad-bc)^2(N-1)}{mnrs}\n",
    "\\end{align}\n",
    "\n",
    "Where\n",
    "<br>\n",
    "<table style=\"border: 1px solid black;\">\n",
    "  <tr>\n",
    "    <th> </th>\n",
    "    <th>Pass (Yes)</th> \n",
    "    <th>Fail (No)</th>\n",
    "    <th>Total</th>\n",
    "  </tr>\n",
    "  <tr>\n",
    "    <td>Design A</td>\n",
    "    <td><i>a</i></td>\n",
    "    <td><i>b</i></td>\n",
    "    <td><i>m</i></td>\n",
    "  </tr>\n",
    "  <tr>\n",
    "    <td>Design B</td>\n",
    "    <td><i>c</i></td>\n",
    "    <td><i>d</i></td>\n",
    "    <td><i>n</i></td>\n",
    "  </tr>\n",
    "  <tr>\n",
    "    <td>Total</td>\n",
    "    <td><i>r</i></td>\n",
    "    <td><i>s</i></td>\n",
    "    <td><i>N</i></td>\n",
    "  </tr>\n",
    "</table>\n",
    "\n",
    "An alternative way of analyzing this A/B test is to compare the differences in proportions with the N-1 two proportion tests (using the normal z distribution); the N-1 two proportion test is mathematically equivalent to the N-1 chi-square test.[1][3] \n",
    "<br><br>\n",
    "When working with more variations beyond the standard A/B test (A/B/C etc), it is best practice to use the Chi-Squared test [1], thus for consistency sake we will use N-1 chi-square test in this A/B test."
   ]
  },
  {
   "cell_type": "markdown",
   "metadata": {},
   "source": [
    "<b>Power</b>\n",
    "<br>\n",
    "The power of the N-1 chi-square independence test is given by:\n",
    "\n",
    "\\begin{align}\n",
    "1 - \\beta = F_{df},\\lambda(x_{crit})\n",
    "\\end{align}"
   ]
  },
  {
   "cell_type": "markdown",
   "metadata": {
    "ExecuteTime": {
     "start_time": "2018-07-06T18:53:30.722Z"
    }
   },
   "source": [
    "where,\n",
    "<br>\n",
    "&emsp;<i>$F_{df}$</i> is the cumulative distribution function\n",
    "<br>\n",
    "&emsp;<i>$x_{crit}$</i> is the critical value\n",
    "<br>\n",
    "&emsp;<i>&lambda;</i>=<i>$w^{2}$n</i>, is the noncentrality parameter where <i>w</i> is the &phi; effect size.\n",
    "<br>\n",
    "and"
   ]
  },
  {
   "cell_type": "markdown",
   "metadata": {},
   "source": [
    "\\begin{align}\n",
    "\\varphi = \\sqrt{\\frac{ {\\chi}^2}{n-1} }\n",
    "\\end{align}"
   ]
  },
  {
   "cell_type": "markdown",
   "metadata": {
    "ExecuteTime": {
     "end_time": "2018-07-06T15:56:32.759088Z",
     "start_time": "2018-07-06T15:56:32.756127Z"
    }
   },
   "source": [
    "## Hypothesis"
   ]
  },
  {
   "cell_type": "markdown",
   "metadata": {},
   "source": [
    "If search result rankings are based on the new 5 Tier Ranking Model, then users will be more likely to click on a search result that is listed because the search listing will return more accurate results."
   ]
  },
  {
   "cell_type": "markdown",
   "metadata": {
    "ExecuteTime": {
     "end_time": "2018-07-06T16:01:48.562956Z",
     "start_time": "2018-07-06T16:01:48.560161Z"
    }
   },
   "source": [
    "## Analysis"
   ]
  },
  {
   "cell_type": "markdown",
   "metadata": {},
   "source": [
    "The test was run for a total of 22 days at the end of that time period we collected the following samples:"
   ]
  },
  {
   "cell_type": "markdown",
   "metadata": {
    "ExecuteTime": {
     "end_time": "2018-07-06T16:02:17.356096Z",
     "start_time": "2018-07-06T16:02:17.351588Z"
    }
   },
   "source": [
    "<table style=\"border: 1px solid black;\">\n",
    "  <tr>\n",
    "    <th>Version</th>\n",
    "    <th>Conversion</th>\n",
    "    <th>No Conversion</th> \n",
    "    <th>Total</th>\n",
    "  </tr>\n",
    "  <tr>\n",
    "    <td>Control (A)</td>\n",
    "    <td>19398</td>\n",
    "    <td>1377</td>\n",
    "    <td>20775</td>\n",
    "  </tr>\n",
    "  <tr>\n",
    "    <td>Variation (B)</td>\n",
    "    <td>19046</td>\n",
    "    <td>1807</td>\n",
    "    <td>20853</td>\n",
    "  </tr>\n",
    "    <tr>\n",
    "    <td>Total</td>\n",
    "    <td>38444</td>\n",
    "    <td>3184</td>\n",
    "    <td>41628</td>\n",
    "  </tr>\n",
    "</table>"
   ]
  },
  {
   "cell_type": "code",
   "execution_count": 3,
   "metadata": {},
   "outputs": [],
   "source": [
    "# load in necessary libraries\n",
    "import numpy as np\n",
    "import scipy.stats as stats\n",
    "import statsmodels.api as sm\n",
    "import matplotlib.pyplot as plt\n",
    "import matplotlib.path as mpath\n",
    "import pandas as pd\n",
    "from pandas.core import datetools"
   ]
  },
  {
   "cell_type": "code",
   "execution_count": 4,
   "metadata": {},
   "outputs": [
    {
     "name": "stdout",
     "output_type": "stream",
     "text": [
      "Test Statistic: 60.86057099196304\n",
      "p-value: 6.126365201099651e-15\n",
      "Degrees of Freedom: 1\n",
      "\n",
      "[[19185.98299222 19258.01700778]\n",
      " [ 1589.01700778  1594.98299222]]\n"
     ]
    }
   ],
   "source": [
    "# using the standard chi square test\n",
    "results = [ [19398, 19046], [1377, 1807] ]\n",
    "chi2, p, ddof, expected = stats.chi2_contingency( results )\n",
    "msg = \"Test Statistic: {}\\np-value: {}\\nDegrees of Freedom: {}\\n\"\n",
    "print( msg.format( chi2, p, ddof ) )\n",
    "print( expected )"
   ]
  },
  {
   "cell_type": "code",
   "execution_count": 5,
   "metadata": {},
   "outputs": [
    {
     "data": {
      "text/plain": [
       "6.106226635438361e-15"
      ]
     },
     "execution_count": 5,
     "metadata": {},
     "output_type": "execute_result"
    }
   ],
   "source": [
    "# give old chi value a more intuitive name\n",
    "oldchisq = chi2\n",
    "# total users in test\n",
    "N = 41628\n",
    "\n",
    "# calculate chi with N-1 correction\n",
    "newchisq = oldchisq*N/(N-1)\n",
    "# new p value with N-1 correction\n",
    "newp = 1 - stats.chi2.cdf(newchisq, 1)\n",
    "newp"
   ]
  },
  {
   "cell_type": "markdown",
   "metadata": {},
   "source": [
    "#### Was it statistically significant?"
   ]
  },
  {
   "cell_type": "markdown",
   "metadata": {},
   "source": [
    "<i>Yes, the test result was statistically significant.</i>\n",
    "\n",
    "The p-value is calculated as 0.000000000000006. In other words, if this distribution was due to chance, we would see exactly this distribution only 6.0E-13% of the time."
   ]
  },
  {
   "cell_type": "markdown",
   "metadata": {},
   "source": [
    "#### Did we account for Type II errors?"
   ]
  },
  {
   "cell_type": "code",
   "execution_count": null,
   "metadata": {},
   "outputs": [],
   "source": [
    "# conduct power analysis"
   ]
  },
  {
   "cell_type": "code",
   "execution_count": null,
   "metadata": {},
   "outputs": [],
   "source": []
  },
  {
   "cell_type": "code",
   "execution_count": null,
   "metadata": {},
   "outputs": [],
   "source": []
  },
  {
   "cell_type": "markdown",
   "metadata": {},
   "source": [
    "### Overtime, was the test statistically significant?"
   ]
  },
  {
   "cell_type": "code",
   "execution_count": null,
   "metadata": {},
   "outputs": [],
   "source": [
    "# junk delete\n",
    "# list = [[[19398, 19046], [1377, 1807]], [[10813, 10227], [461,887]]]"
   ]
  },
  {
   "cell_type": "code",
   "execution_count": null,
   "metadata": {},
   "outputs": [],
   "source": [
    "# junk delete\n",
    "# for i in list:\n",
    "#    print(i)"
   ]
  },
  {
   "cell_type": "code",
   "execution_count": null,
   "metadata": {},
   "outputs": [],
   "source": [
    "# junk delete\n",
    "#results2 = list[1]\n",
    "#chi2, p, ddof, expected = stats.chi2_contingency( results2 )\n",
    "#msg = \"Test Statistic: {}\\np-value: {}\\nDegrees of Freedom: {}\\n\"\n",
    "#print( msg.format( chi2, p, ddof ) )\n",
    "#print( expected )"
   ]
  },
  {
   "cell_type": "code",
   "execution_count": 6,
   "metadata": {},
   "outputs": [],
   "source": [
    "# upload conversion data over time into dataframe\n",
    "daily_results = pd.read_csv('data.csv')"
   ]
  },
  {
   "cell_type": "code",
   "execution_count": 7,
   "metadata": {},
   "outputs": [
    {
     "data": {
      "text/html": [
       "<div>\n",
       "<style scoped>\n",
       "    .dataframe tbody tr th:only-of-type {\n",
       "        vertical-align: middle;\n",
       "    }\n",
       "\n",
       "    .dataframe tbody tr th {\n",
       "        vertical-align: top;\n",
       "    }\n",
       "\n",
       "    .dataframe thead th {\n",
       "        text-align: right;\n",
       "    }\n",
       "</style>\n",
       "<table border=\"1\" class=\"dataframe\">\n",
       "  <thead>\n",
       "    <tr style=\"text-align: right;\">\n",
       "      <th></th>\n",
       "      <th>Day</th>\n",
       "      <th>Conversions_A</th>\n",
       "      <th>No_Conversions_A</th>\n",
       "      <th>Visits_A</th>\n",
       "      <th>Conversions_B</th>\n",
       "      <th>No_Conversions_B</th>\n",
       "      <th>Visits_B</th>\n",
       "    </tr>\n",
       "  </thead>\n",
       "  <tbody>\n",
       "    <tr>\n",
       "      <th>0</th>\n",
       "      <td>May 21, 2018</td>\n",
       "      <td>778</td>\n",
       "      <td>-128</td>\n",
       "      <td>650</td>\n",
       "      <td>606</td>\n",
       "      <td>-4</td>\n",
       "      <td>602</td>\n",
       "    </tr>\n",
       "    <tr>\n",
       "      <th>1</th>\n",
       "      <td>May 22, 2018</td>\n",
       "      <td>2115</td>\n",
       "      <td>-38</td>\n",
       "      <td>2077</td>\n",
       "      <td>2049</td>\n",
       "      <td>38</td>\n",
       "      <td>2087</td>\n",
       "    </tr>\n",
       "    <tr>\n",
       "      <th>2</th>\n",
       "      <td>May 23, 2018</td>\n",
       "      <td>3361</td>\n",
       "      <td>-15</td>\n",
       "      <td>3346</td>\n",
       "      <td>3183</td>\n",
       "      <td>110</td>\n",
       "      <td>3293</td>\n",
       "    </tr>\n",
       "  </tbody>\n",
       "</table>\n",
       "</div>"
      ],
      "text/plain": [
       "            Day  Conversions_A  No_Conversions_A  Visits_A  Conversions_B  \\\n",
       "0  May 21, 2018            778              -128       650            606   \n",
       "1  May 22, 2018           2115               -38      2077           2049   \n",
       "2  May 23, 2018           3361               -15      3346           3183   \n",
       "\n",
       "   No_Conversions_B  Visits_B  \n",
       "0                -4       602  \n",
       "1                38      2087  \n",
       "2               110      3293  "
      ]
     },
     "execution_count": 7,
     "metadata": {},
     "output_type": "execute_result"
    }
   ],
   "source": [
    "# check structure of dataframe\n",
    "daily_results.head(3)"
   ]
  },
  {
   "cell_type": "code",
   "execution_count": 8,
   "metadata": {},
   "outputs": [],
   "source": [
    "# insert column for total users in test per day\n",
    "# this is used in later calculations.\n",
    "daily_results['Total_Visits'] = daily_results['Visits_A'] + daily_results['Visits_B']"
   ]
  },
  {
   "cell_type": "code",
   "execution_count": 9,
   "metadata": {},
   "outputs": [
    {
     "data": {
      "text/html": [
       "<div>\n",
       "<style scoped>\n",
       "    .dataframe tbody tr th:only-of-type {\n",
       "        vertical-align: middle;\n",
       "    }\n",
       "\n",
       "    .dataframe tbody tr th {\n",
       "        vertical-align: top;\n",
       "    }\n",
       "\n",
       "    .dataframe thead th {\n",
       "        text-align: right;\n",
       "    }\n",
       "</style>\n",
       "<table border=\"1\" class=\"dataframe\">\n",
       "  <thead>\n",
       "    <tr style=\"text-align: right;\">\n",
       "      <th></th>\n",
       "      <th>Day</th>\n",
       "      <th>Conversions_A</th>\n",
       "      <th>No_Conversions_A</th>\n",
       "      <th>Visits_A</th>\n",
       "      <th>Conversions_B</th>\n",
       "      <th>No_Conversions_B</th>\n",
       "      <th>Visits_B</th>\n",
       "      <th>Total_Visits</th>\n",
       "    </tr>\n",
       "  </thead>\n",
       "  <tbody>\n",
       "    <tr>\n",
       "      <th>0</th>\n",
       "      <td>May 21, 2018</td>\n",
       "      <td>778</td>\n",
       "      <td>-128</td>\n",
       "      <td>650</td>\n",
       "      <td>606</td>\n",
       "      <td>-4</td>\n",
       "      <td>602</td>\n",
       "      <td>1252</td>\n",
       "    </tr>\n",
       "    <tr>\n",
       "      <th>1</th>\n",
       "      <td>May 22, 2018</td>\n",
       "      <td>2115</td>\n",
       "      <td>-38</td>\n",
       "      <td>2077</td>\n",
       "      <td>2049</td>\n",
       "      <td>38</td>\n",
       "      <td>2087</td>\n",
       "      <td>4164</td>\n",
       "    </tr>\n",
       "    <tr>\n",
       "      <th>2</th>\n",
       "      <td>May 23, 2018</td>\n",
       "      <td>3361</td>\n",
       "      <td>-15</td>\n",
       "      <td>3346</td>\n",
       "      <td>3183</td>\n",
       "      <td>110</td>\n",
       "      <td>3293</td>\n",
       "      <td>6639</td>\n",
       "    </tr>\n",
       "  </tbody>\n",
       "</table>\n",
       "</div>"
      ],
      "text/plain": [
       "            Day  Conversions_A  No_Conversions_A  Visits_A  Conversions_B  \\\n",
       "0  May 21, 2018            778              -128       650            606   \n",
       "1  May 22, 2018           2115               -38      2077           2049   \n",
       "2  May 23, 2018           3361               -15      3346           3183   \n",
       "\n",
       "   No_Conversions_B  Visits_B  Total_Visits  \n",
       "0                -4       602          1252  \n",
       "1                38      2087          4164  \n",
       "2               110      3293          6639  "
      ]
     },
     "execution_count": 9,
     "metadata": {},
     "output_type": "execute_result"
    }
   ],
   "source": [
    "# check that new column was created successfully\n",
    "daily_results.head(3)"
   ]
  },
  {
   "cell_type": "code",
   "execution_count": 10,
   "metadata": {},
   "outputs": [],
   "source": [
    "# Now we will need to perform some data restructuring so that\n",
    "# we can use it with stats library and iterate over dates.\n",
    "\n",
    "\n",
    "# create dataframe for conversion values only\n",
    "Conversions = daily_results[['Conversions_A', 'Conversions_B']].copy()"
   ]
  },
  {
   "cell_type": "code",
   "execution_count": 11,
   "metadata": {},
   "outputs": [],
   "source": [
    "# convert conversion dataframe into list\n",
    "Conversions = Conversions.values.tolist()"
   ]
  },
  {
   "cell_type": "code",
   "execution_count": 12,
   "metadata": {},
   "outputs": [],
   "source": [
    "# create dataframe from non-conversion values only\n",
    "NonConversions = daily_results[['No_Conversions_A', 'No_Conversions_B']].copy()"
   ]
  },
  {
   "cell_type": "code",
   "execution_count": 13,
   "metadata": {},
   "outputs": [],
   "source": [
    "# convert nonconversion dataframe into list\n",
    "NonConversions = NonConversions.values.tolist()"
   ]
  },
  {
   "cell_type": "code",
   "execution_count": 14,
   "metadata": {},
   "outputs": [
    {
     "data": {
      "text/plain": [
       "[([778, 606], [-128, -4]),\n",
       " ([2115, 2049], [-38, 38]),\n",
       " ([3361, 3183], [-15, 110]),\n",
       " ([4512, 4179], [-105, 185]),\n",
       " ([5326, 5079], [66, 257]),\n",
       " ([5578, 5293], [51, 286]),\n",
       " ([5902, 5574], [105, 358]),\n",
       " ([6872, 6450], [237, 512]),\n",
       " ([8248, 7736], [290, 623]),\n",
       " ([9515, 9048], [425, 727]),\n",
       " ([10813, 10227], [461, 887]),\n",
       " ([11697, 11313], [581, 881]),\n",
       " ([11884, 11478], [628, 959]),\n",
       " ([12241, 11791], [661, 1044]),\n",
       " ([13518, 13142], [748, 1099]),\n",
       " ([14838, 14464], [925, 1240]),\n",
       " ([16283, 15695], [1005, 1463]),\n",
       " ([17488, 17041], [1205, 1590]),\n",
       " ([18409, 18004], [1316, 1693]),\n",
       " ([18585, 18277], [1339, 1660]),\n",
       " ([18893, 18563], [1375, 1730]),\n",
       " ([19695, 19354], [1379, 1846])]"
      ]
     },
     "execution_count": 14,
     "metadata": {},
     "output_type": "execute_result"
    }
   ],
   "source": [
    "# create a list from our conversion and nonconversion lists\n",
    "new_list = [*zip(Conversions, NonConversions)]\n",
    "# check structure of list\n",
    "new_list"
   ]
  },
  {
   "cell_type": "code",
   "execution_count": 36,
   "metadata": {},
   "outputs": [],
   "source": [
    "new_list_copy = new_list.copy()"
   ]
  },
  {
   "cell_type": "code",
   "execution_count": null,
   "metadata": {},
   "outputs": [],
   "source": [
    "for in new_list_copy:\n",
    "    print"
   ]
  },
  {
   "cell_type": "code",
   "execution_count": 21,
   "metadata": {
    "scrolled": true
   },
   "outputs": [
    {
     "data": {
      "text/plain": [
       "True"
      ]
     },
     "execution_count": 21,
     "metadata": {},
     "output_type": "execute_result"
    }
   ],
   "source": [
    "x = [1, 2, 3]\n",
    "y = [4, 5, 6]\n",
    "zipped = zip(x, y)\n",
    "list(zipped)\n",
    "\n",
    "x2, y2 = zip(*zip(x, y))\n",
    "x == list(x2) and y == list(y2)"
   ]
  },
  {
   "cell_type": "code",
   "execution_count": 39,
   "metadata": {},
   "outputs": [
    {
     "ename": "TypeError",
     "evalue": "'<' not supported between instances of 'list' and 'int'",
     "output_type": "error",
     "traceback": [
      "\u001b[0;31m---------------------------------------------------------------------------\u001b[0m",
      "\u001b[0;31mTypeError\u001b[0m                                 Traceback (most recent call last)",
      "\u001b[0;32m<ipython-input-39-15978f38142b>\u001b[0m in \u001b[0;36m<module>\u001b[0;34m()\u001b[0m\n\u001b[1;32m      3\u001b[0m     \u001b[0;32mfor\u001b[0m \u001b[0mitem\u001b[0m \u001b[0;32min\u001b[0m \u001b[0mconver\u001b[0m\u001b[0;34m,\u001b[0m \u001b[0mnonconver\u001b[0m\u001b[0;34m:\u001b[0m\u001b[0;34m\u001b[0m\u001b[0m\n\u001b[1;32m      4\u001b[0m         \u001b[0;32mfor\u001b[0m \u001b[0mnumber\u001b[0m \u001b[0;32min\u001b[0m \u001b[0mitem\u001b[0m\u001b[0;34m:\u001b[0m\u001b[0;34m\u001b[0m\u001b[0m\n\u001b[0;32m----> 5\u001b[0;31m             \u001b[0;32mif\u001b[0m \u001b[0mnumber\u001b[0m \u001b[0;34m<\u001b[0m \u001b[0;36m0\u001b[0m\u001b[0;34m:\u001b[0m\u001b[0;34m\u001b[0m\u001b[0m\n\u001b[0m\u001b[1;32m      6\u001b[0m                 \u001b[0mnew_list_copy\u001b[0m\u001b[0;34m.\u001b[0m\u001b[0mremove\u001b[0m\u001b[0;34m(\u001b[0m\u001b[0mrow\u001b[0m\u001b[0;34m)\u001b[0m\u001b[0;34m\u001b[0m\u001b[0m\n",
      "\u001b[0;31mTypeError\u001b[0m: '<' not supported between instances of 'list' and 'int'"
     ]
    }
   ],
   "source": [
    "for row in new_list_copy:\n",
    "    conver, nonconver = zip(*new_list_copy)\n",
    "    for item in conver, nonconver:\n",
    "        for number in item:\n",
    "            if number < 0:\n",
    "                new_list_copy.remove(row)"
   ]
  },
  {
   "cell_type": "code",
   "execution_count": 38,
   "metadata": {},
   "outputs": [
    {
     "data": {
      "text/plain": [
       "[([2115, 2049], [-38, 38]),\n",
       " ([3361, 3183], [-15, 110]),\n",
       " ([4512, 4179], [-105, 185]),\n",
       " ([5326, 5079], [66, 257]),\n",
       " ([5578, 5293], [51, 286]),\n",
       " ([5902, 5574], [105, 358]),\n",
       " ([6872, 6450], [237, 512]),\n",
       " ([8248, 7736], [290, 623]),\n",
       " ([9515, 9048], [425, 727]),\n",
       " ([10813, 10227], [461, 887]),\n",
       " ([11697, 11313], [581, 881]),\n",
       " ([11884, 11478], [628, 959]),\n",
       " ([12241, 11791], [661, 1044]),\n",
       " ([13518, 13142], [748, 1099]),\n",
       " ([14838, 14464], [925, 1240]),\n",
       " ([16283, 15695], [1005, 1463]),\n",
       " ([17488, 17041], [1205, 1590]),\n",
       " ([18409, 18004], [1316, 1693]),\n",
       " ([18585, 18277], [1339, 1660]),\n",
       " ([18893, 18563], [1375, 1730]),\n",
       " ([19695, 19354], [1379, 1846])]"
      ]
     },
     "execution_count": 38,
     "metadata": {},
     "output_type": "execute_result"
    }
   ],
   "source": [
    "new_list_copy"
   ]
  },
  {
   "cell_type": "code",
   "execution_count": null,
   "metadata": {},
   "outputs": [],
   "source": [
    "    #for number in conver:\n",
    "    #    if number < 0:\n",
    "    #        new_list.remove(row)"
   ]
  },
  {
   "cell_type": "code",
   "execution_count": null,
   "metadata": {},
   "outputs": [],
   "source": [
    "for i in new list:\n",
    "    for j in i:\n",
    "        for k in j:\n",
    "            if k < 0:\n",
    "                \n",
    "    \n",
    "    \n",
    "        for k in i:\n",
    "            for j in k:\n",
    "                if j > 0:\n",
    "                    print(i)"
   ]
  },
  {
   "cell_type": "code",
   "execution_count": null,
   "metadata": {},
   "outputs": [],
   "source": [
    "# create list for total users in each test\n",
    "\n",
    "# extract the column we want\n",
    "Total_Visits = daily_results['Total_Visits']\n",
    "# convert column into list\n",
    "Total_Visits = Total_Visits.values.tolist()"
   ]
  },
  {
   "cell_type": "code",
   "execution_count": null,
   "metadata": {},
   "outputs": [],
   "source": [
    "# junk delete\n",
    "# using the standard chi square test\n",
    "chi2, p, ddof, expected = stats.chi2_contingency( new_list[4] )\n",
    "msg = \"Test Statistic: {}\\np-value: {}\\nDegrees of Freedom: {}\\n\"\n",
    "print( msg.format( chi2, p, ddof ) )"
   ]
  },
  {
   "cell_type": "code",
   "execution_count": null,
   "metadata": {},
   "outputs": [],
   "source": [
    "# junk delete\n",
    "# give old chi value a more intuitive name\n",
    "oldchisq = chi2\n",
    "# total users in test\n",
    "N = 41628\n",
    "\n",
    "# calculate chi with N-1 correction\n",
    "newchisq = oldchisq*N/(N-1)\n",
    "# new p value with N-1 correction\n",
    "updated_p = 1 - stats.chi2.cdf(newchisq, 1)\n",
    "updated_p"
   ]
  },
  {
   "cell_type": "code",
   "execution_count": null,
   "metadata": {
    "scrolled": true
   },
   "outputs": [],
   "source": [
    "historical_p = []\n",
    "for i,j in [(i,j) for i in new_list for j in Total_Visits]:\n",
    "    for k in i:\n",
    "            for j in k:\n",
    "                if j > 0:\n",
    "                    print(i)"
   ]
  },
  {
   "cell_type": "code",
   "execution_count": null,
   "metadata": {},
   "outputs": [],
   "source": [
    "            chi, p, ddof, expected = stats.chi2_contingency( i )\n",
    "            N = j\n",
    "            newchisq = chi*N(N-1)\n",
    "            updated_p = 1 - stats.chi2.cdf(newchisq, 1)\n",
    "            historical_p.append(updated_p)"
   ]
  },
  {
   "cell_type": "code",
   "execution_count": null,
   "metadata": {},
   "outputs": [],
   "source": [
    "star = mpath.Path.unit_regular_star(6)\n",
    "circle = mpath.Path.unit_circle()\n",
    "# concatenate the circle with an internal cutout of the star\n",
    "verts = np.concatenate([circle.vertices, star.vertices[::-1, ...]])\n",
    "codes = np.concatenate([circle.codes, star.codes])\n",
    "cut_star = mpath.Path(verts, codes)\n",
    "\n",
    "\n",
    "plt.plot(np.arange(10)**2, '--r', marker=cut_star, markersize=15)\n",
    "\n",
    "plt.show()"
   ]
  },
  {
   "cell_type": "code",
   "execution_count": null,
   "metadata": {},
   "outputs": [],
   "source": [
    "plt.scatter(list)\n",
    "plt.plot(list)\n",
    "plt.show()"
   ]
  },
  {
   "cell_type": "markdown",
   "metadata": {},
   "source": [
    "### Test Results"
   ]
  },
  {
   "cell_type": "code",
   "execution_count": null,
   "metadata": {},
   "outputs": [],
   "source": []
  },
  {
   "cell_type": "markdown",
   "metadata": {},
   "source": [
    "### Recommendations"
   ]
  },
  {
   "cell_type": "code",
   "execution_count": null,
   "metadata": {},
   "outputs": [],
   "source": []
  },
  {
   "cell_type": "code",
   "execution_count": null,
   "metadata": {},
   "outputs": [],
   "source": []
  },
  {
   "cell_type": "code",
   "execution_count": null,
   "metadata": {},
   "outputs": [],
   "source": []
  },
  {
   "cell_type": "code",
   "execution_count": null,
   "metadata": {},
   "outputs": [],
   "source": []
  },
  {
   "cell_type": "markdown",
   "metadata": {},
   "source": [
    "<b><u>References</b></u>\n",
    "<br>\n",
    "[1] Sauro, Jeff, and James R. Lewis. <i>Quantifying the User Experience: Practical Statistics for User Research</i>. Morgan Kaufmann, 2016.\n",
    "<br>\n",
    "<br>\n",
    "[2] Campbell, I. (2007), <i>Chi‐squared and Fisher–Irwin tests of two‐by‐two tables with small sample recommendations</i>. Statist. Med., 26: 3661-3675. doi:10.1002/sim.2832\n",
    "<br>\n",
    "<br>\n",
    "[3] Wallis, Sean. <i>z-Squared: The Origin and Application of χ2</i>. 2010, www.ucl.ac.uk/english-usage/staff/sean/resources/z-squared.pdf."
   ]
  }
 ],
 "metadata": {
  "kernelspec": {
   "display_name": "Python 3",
   "language": "python",
   "name": "python3"
  },
  "language_info": {
   "codemirror_mode": {
    "name": "ipython",
    "version": 3
   },
   "file_extension": ".py",
   "mimetype": "text/x-python",
   "name": "python",
   "nbconvert_exporter": "python",
   "pygments_lexer": "ipython3",
   "version": "3.6.4"
  },
  "toc": {
   "base_numbering": 1,
   "nav_menu": {},
   "number_sections": true,
   "sideBar": true,
   "skip_h1_title": false,
   "title_cell": "Table of Contents",
   "title_sidebar": "Contents",
   "toc_cell": false,
   "toc_position": {},
   "toc_section_display": true,
   "toc_window_display": false
  }
 },
 "nbformat": 4,
 "nbformat_minor": 2
}
